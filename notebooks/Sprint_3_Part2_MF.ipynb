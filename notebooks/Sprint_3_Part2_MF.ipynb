{
 "cells": [
  {
   "cell_type": "markdown",
   "metadata": {},
   "source": [
    "## **Sprint 3: H&M Personalized Fashion Recommendations**\n",
    "\n",
    "### Matrix Factorization"
   ]
  },
  {
   "cell_type": "markdown",
   "metadata": {},
   "source": [
    "___\n",
    "\n",
    "Atoosa Rashid\n",
    "\n",
    "[GitHub](https://github.com/atoosa-r/)\n",
    "\n",
    "[LinkedIn](https://www.linkedin.com/in/atoosarashid/) \n",
    "____"
   ]
  },
  {
   "cell_type": "markdown",
   "metadata": {},
   "source": [
    "### **Introduction**\n",
    "\n",
    "In this data analysis, we explore H&M Group datasets, including transactions, customer information, and article details. H&M Group operates globally with 53 online markets and approximately 4850 stores. The objective is to uncover insights for developing effective product recommendations.\n",
    "\n",
    "In this notebook we will be performing Matrix Factorization and providing further recommendations. "
   ]
  },
  {
   "cell_type": "code",
   "execution_count": 2,
   "metadata": {},
   "outputs": [],
   "source": [
    "#Importing libraries: \n",
    "\n",
    "import numpy as np                 \n",
    "import pandas as pd    \n",
    "              \n",
    "import matplotlib.pyplot as plt      \n",
    "import matplotlib.image as mpimg      \n",
    "import seaborn as sns         \n",
    "\n",
    "from sklearn.metrics.pairwise import cosine_similarity\n",
    "from scipy.spatial.distance import cosine as cosine_distance\n",
    "\n",
    "from surprise import Dataset\n",
    "from surprise.reader import Reader\n",
    "from surprise.prediction_algorithms.matrix_factorization import SVD as FunkSVD\n",
    "from surprise.model_selection import GridSearchCV\n",
    "from surprise import accuracy\n",
    "from surprise.model_selection import train_test_split"
   ]
  },
  {
   "cell_type": "code",
   "execution_count": 3,
   "metadata": {},
   "outputs": [],
   "source": [
    "#Importing Dataframes:\n",
    "\n",
    "articles_df=pd.read_csv(\"/Users/Atoosa/Desktop/cleaned_articles_df.csv\") \n",
    "\n",
    "m_matrix=pd.read_csv(\"/Users/Atoosa/Desktop/melted_dataframe.csv\")"
   ]
  },
  {
   "cell_type": "code",
   "execution_count": 4,
   "metadata": {},
   "outputs": [
    {
     "data": {
      "text/html": [
       "<div>\n",
       "<style scoped>\n",
       "    .dataframe tbody tr th:only-of-type {\n",
       "        vertical-align: middle;\n",
       "    }\n",
       "\n",
       "    .dataframe tbody tr th {\n",
       "        vertical-align: top;\n",
       "    }\n",
       "\n",
       "    .dataframe thead th {\n",
       "        text-align: right;\n",
       "    }\n",
       "</style>\n",
       "<table border=\"1\" class=\"dataframe\">\n",
       "  <thead>\n",
       "    <tr style=\"text-align: right;\">\n",
       "      <th></th>\n",
       "      <th>customer_id</th>\n",
       "      <th>article_id</th>\n",
       "      <th>score</th>\n",
       "    </tr>\n",
       "  </thead>\n",
       "  <tbody>\n",
       "    <tr>\n",
       "      <th>0</th>\n",
       "      <td>0dbe2f2ceb2e205216589497f46228ab5b6eb8927032f4...</td>\n",
       "      <td>111565001</td>\n",
       "      <td>5.0</td>\n",
       "    </tr>\n",
       "    <tr>\n",
       "      <th>1</th>\n",
       "      <td>18cbcb477a05ec64929809693fcac49edd404571f7e667...</td>\n",
       "      <td>111565001</td>\n",
       "      <td>2.5</td>\n",
       "    </tr>\n",
       "    <tr>\n",
       "      <th>2</th>\n",
       "      <td>190ce2b4681d15e1b4e752aaefdf07d73cf3265d33e5de...</td>\n",
       "      <td>111565001</td>\n",
       "      <td>5.0</td>\n",
       "    </tr>\n",
       "  </tbody>\n",
       "</table>\n",
       "</div>"
      ],
      "text/plain": [
       "                                         customer_id  article_id  score\n",
       "0  0dbe2f2ceb2e205216589497f46228ab5b6eb8927032f4...   111565001    5.0\n",
       "1  18cbcb477a05ec64929809693fcac49edd404571f7e667...   111565001    2.5\n",
       "2  190ce2b4681d15e1b4e752aaefdf07d73cf3265d33e5de...   111565001    5.0"
      ]
     },
     "execution_count": 4,
     "metadata": {},
     "output_type": "execute_result"
    }
   ],
   "source": [
    "#Sanity check:\n",
    "\n",
    "m_matrix.head(3)"
   ]
  },
  {
   "cell_type": "code",
   "execution_count": 5,
   "metadata": {},
   "outputs": [
    {
     "data": {
      "text/html": [
       "<div>\n",
       "<style scoped>\n",
       "    .dataframe tbody tr th:only-of-type {\n",
       "        vertical-align: middle;\n",
       "    }\n",
       "\n",
       "    .dataframe tbody tr th {\n",
       "        vertical-align: top;\n",
       "    }\n",
       "\n",
       "    .dataframe thead th {\n",
       "        text-align: right;\n",
       "    }\n",
       "</style>\n",
       "<table border=\"1\" class=\"dataframe\">\n",
       "  <thead>\n",
       "    <tr style=\"text-align: right;\">\n",
       "      <th></th>\n",
       "      <th>article_id</th>\n",
       "      <th>prod_name</th>\n",
       "      <th>product_type_name</th>\n",
       "      <th>product_group_name</th>\n",
       "      <th>colour_group_name</th>\n",
       "      <th>department_name</th>\n",
       "      <th>index_group_name</th>\n",
       "      <th>section_name</th>\n",
       "      <th>garment_group_name</th>\n",
       "      <th>detail_desc</th>\n",
       "      <th>preprocessed_detail_desc</th>\n",
       "    </tr>\n",
       "  </thead>\n",
       "  <tbody>\n",
       "    <tr>\n",
       "      <th>0</th>\n",
       "      <td>108775015</td>\n",
       "      <td>Strap top</td>\n",
       "      <td>Vest top</td>\n",
       "      <td>Garment Upper body</td>\n",
       "      <td>Black</td>\n",
       "      <td>Jersey Basic</td>\n",
       "      <td>Ladieswear</td>\n",
       "      <td>Womens Everyday Basics</td>\n",
       "      <td>Jersey Basic</td>\n",
       "      <td>Jersey top with narrow shoulder straps.</td>\n",
       "      <td>jersey top narrow shoulder straps</td>\n",
       "    </tr>\n",
       "    <tr>\n",
       "      <th>1</th>\n",
       "      <td>108775044</td>\n",
       "      <td>Strap top</td>\n",
       "      <td>Vest top</td>\n",
       "      <td>Garment Upper body</td>\n",
       "      <td>White</td>\n",
       "      <td>Jersey Basic</td>\n",
       "      <td>Ladieswear</td>\n",
       "      <td>Womens Everyday Basics</td>\n",
       "      <td>Jersey Basic</td>\n",
       "      <td>Jersey top with narrow shoulder straps.</td>\n",
       "      <td>jersey top narrow shoulder straps</td>\n",
       "    </tr>\n",
       "    <tr>\n",
       "      <th>2</th>\n",
       "      <td>108775051</td>\n",
       "      <td>Strap top (1)</td>\n",
       "      <td>Vest top</td>\n",
       "      <td>Garment Upper body</td>\n",
       "      <td>Off White</td>\n",
       "      <td>Jersey Basic</td>\n",
       "      <td>Ladieswear</td>\n",
       "      <td>Womens Everyday Basics</td>\n",
       "      <td>Jersey Basic</td>\n",
       "      <td>Jersey top with narrow shoulder straps.</td>\n",
       "      <td>jersey top narrow shoulder straps</td>\n",
       "    </tr>\n",
       "  </tbody>\n",
       "</table>\n",
       "</div>"
      ],
      "text/plain": [
       "   article_id      prod_name product_type_name  product_group_name  \\\n",
       "0   108775015      Strap top          Vest top  Garment Upper body   \n",
       "1   108775044      Strap top          Vest top  Garment Upper body   \n",
       "2   108775051  Strap top (1)          Vest top  Garment Upper body   \n",
       "\n",
       "  colour_group_name department_name index_group_name            section_name  \\\n",
       "0             Black    Jersey Basic       Ladieswear  Womens Everyday Basics   \n",
       "1             White    Jersey Basic       Ladieswear  Womens Everyday Basics   \n",
       "2         Off White    Jersey Basic       Ladieswear  Womens Everyday Basics   \n",
       "\n",
       "  garment_group_name                              detail_desc  \\\n",
       "0       Jersey Basic  Jersey top with narrow shoulder straps.   \n",
       "1       Jersey Basic  Jersey top with narrow shoulder straps.   \n",
       "2       Jersey Basic  Jersey top with narrow shoulder straps.   \n",
       "\n",
       "            preprocessed_detail_desc  \n",
       "0  jersey top narrow shoulder straps  \n",
       "1  jersey top narrow shoulder straps  \n",
       "2  jersey top narrow shoulder straps  "
      ]
     },
     "execution_count": 5,
     "metadata": {},
     "output_type": "execute_result"
    }
   ],
   "source": [
    "#Sanity check:\n",
    "\n",
    "articles_df.head(3)"
   ]
  },
  {
   "cell_type": "code",
   "execution_count": 6,
   "metadata": {},
   "outputs": [
    {
     "data": {
      "text/plain": [
       "customer_id    0\n",
       "article_id     0\n",
       "score          0\n",
       "dtype: int64"
      ]
     },
     "execution_count": 6,
     "metadata": {},
     "output_type": "execute_result"
    }
   ],
   "source": [
    "#Checking for nans:\n",
    "\n",
    "m_matrix.isna().sum()"
   ]
  },
  {
   "cell_type": "code",
   "execution_count": 7,
   "metadata": {},
   "outputs": [
    {
     "name": "stdout",
     "output_type": "stream",
     "text": [
      "<class 'pandas.core.frame.DataFrame'>\n",
      "RangeIndex: 470191 entries, 0 to 470190\n",
      "Data columns (total 3 columns):\n",
      " #   Column       Non-Null Count   Dtype  \n",
      "---  ------       --------------   -----  \n",
      " 0   customer_id  470191 non-null  object \n",
      " 1   article_id   470191 non-null  int64  \n",
      " 2   score        470191 non-null  float64\n",
      "dtypes: float64(1), int64(1), object(1)\n",
      "memory usage: 10.8+ MB\n"
     ]
    }
   ],
   "source": [
    "m_matrix.info()"
   ]
  },
  {
   "cell_type": "code",
   "execution_count": 8,
   "metadata": {},
   "outputs": [],
   "source": [
    "#Sorting our values based on the order below: \n",
    "\n",
    "mm_df = m_matrix.sort_values(by=['customer_id', 'article_id','score'])"
   ]
  },
  {
   "cell_type": "code",
   "execution_count": 9,
   "metadata": {},
   "outputs": [
    {
     "data": {
      "text/html": [
       "<div>\n",
       "<style scoped>\n",
       "    .dataframe tbody tr th:only-of-type {\n",
       "        vertical-align: middle;\n",
       "    }\n",
       "\n",
       "    .dataframe tbody tr th {\n",
       "        vertical-align: top;\n",
       "    }\n",
       "\n",
       "    .dataframe thead th {\n",
       "        text-align: right;\n",
       "    }\n",
       "</style>\n",
       "<table border=\"1\" class=\"dataframe\">\n",
       "  <thead>\n",
       "    <tr style=\"text-align: right;\">\n",
       "      <th></th>\n",
       "      <th>customer_id</th>\n",
       "      <th>article_id</th>\n",
       "      <th>score</th>\n",
       "    </tr>\n",
       "  </thead>\n",
       "  <tbody>\n",
       "    <tr>\n",
       "      <th>14559</th>\n",
       "      <td>000058a12d5b43e67d225668fa1f8d618c13dc232df0ca...</td>\n",
       "      <td>794321007</td>\n",
       "      <td>5.0</td>\n",
       "    </tr>\n",
       "    <tr>\n",
       "      <th>1041</th>\n",
       "      <td>0000757967448a6cb83efb3ea7a3fb9d418ac7adf2379d...</td>\n",
       "      <td>448509014</td>\n",
       "      <td>5.0</td>\n",
       "    </tr>\n",
       "    <tr>\n",
       "      <th>8336</th>\n",
       "      <td>0000757967448a6cb83efb3ea7a3fb9d418ac7adf2379d...</td>\n",
       "      <td>719530003</td>\n",
       "      <td>5.0</td>\n",
       "    </tr>\n",
       "    <tr>\n",
       "      <th>9140</th>\n",
       "      <td>0001d44dbe7f6c4b35200abdb052c77a87596fe1bdcc37...</td>\n",
       "      <td>734592001</td>\n",
       "      <td>5.0</td>\n",
       "    </tr>\n",
       "    <tr>\n",
       "      <th>39368</th>\n",
       "      <td>0002cca4cc68601e894ab62839428e5f0696417fe0f9e8...</td>\n",
       "      <td>910601002</td>\n",
       "      <td>5.0</td>\n",
       "    </tr>\n",
       "    <tr>\n",
       "      <th>4371</th>\n",
       "      <td>00039306476aaf41a07fed942884f16b30abfa83a2a8be...</td>\n",
       "      <td>624486001</td>\n",
       "      <td>5.0</td>\n",
       "    </tr>\n",
       "    <tr>\n",
       "      <th>4290</th>\n",
       "      <td>0003e867a930d0d6842f923d6ba7c9b77aba33fe2a0fbf...</td>\n",
       "      <td>621381012</td>\n",
       "      <td>2.5</td>\n",
       "    </tr>\n",
       "    <tr>\n",
       "      <th>4660</th>\n",
       "      <td>0003e867a930d0d6842f923d6ba7c9b77aba33fe2a0fbf...</td>\n",
       "      <td>640021012</td>\n",
       "      <td>2.5</td>\n",
       "    </tr>\n",
       "    <tr>\n",
       "      <th>18792</th>\n",
       "      <td>0003e867a930d0d6842f923d6ba7c9b77aba33fe2a0fbf...</td>\n",
       "      <td>827487003</td>\n",
       "      <td>2.5</td>\n",
       "    </tr>\n",
       "    <tr>\n",
       "      <th>28968</th>\n",
       "      <td>0003e867a930d0d6842f923d6ba7c9b77aba33fe2a0fbf...</td>\n",
       "      <td>880017001</td>\n",
       "      <td>5.0</td>\n",
       "    </tr>\n",
       "  </tbody>\n",
       "</table>\n",
       "</div>"
      ],
      "text/plain": [
       "                                             customer_id  article_id  score\n",
       "14559  000058a12d5b43e67d225668fa1f8d618c13dc232df0ca...   794321007    5.0\n",
       "1041   0000757967448a6cb83efb3ea7a3fb9d418ac7adf2379d...   448509014    5.0\n",
       "8336   0000757967448a6cb83efb3ea7a3fb9d418ac7adf2379d...   719530003    5.0\n",
       "9140   0001d44dbe7f6c4b35200abdb052c77a87596fe1bdcc37...   734592001    5.0\n",
       "39368  0002cca4cc68601e894ab62839428e5f0696417fe0f9e8...   910601002    5.0\n",
       "4371   00039306476aaf41a07fed942884f16b30abfa83a2a8be...   624486001    5.0\n",
       "4290   0003e867a930d0d6842f923d6ba7c9b77aba33fe2a0fbf...   621381012    2.5\n",
       "4660   0003e867a930d0d6842f923d6ba7c9b77aba33fe2a0fbf...   640021012    2.5\n",
       "18792  0003e867a930d0d6842f923d6ba7c9b77aba33fe2a0fbf...   827487003    2.5\n",
       "28968  0003e867a930d0d6842f923d6ba7c9b77aba33fe2a0fbf...   880017001    5.0"
      ]
     },
     "execution_count": 9,
     "metadata": {},
     "output_type": "execute_result"
    }
   ],
   "source": [
    "#Sanity check on new sorted order:\n",
    "\n",
    "mm_df.head(10)"
   ]
  },
  {
   "cell_type": "code",
   "execution_count": 11,
   "metadata": {},
   "outputs": [
    {
     "data": {
      "text/plain": [
       "score\n",
       "5.000000    356805\n",
       "2.500000     89914\n",
       "1.666667     13941\n",
       "3.333333      4220\n",
       "1.250000      3081\n",
       "1.000000       686\n",
       "0.833333       424\n",
       "3.750000       292\n",
       "2.000000       276\n",
       "0.714286        89\n",
       "3.000000        86\n",
       "0.625000        68\n",
       "4.000000        50\n",
       "0.555556        47\n",
       "1.428571        45\n",
       "1.111111        23\n",
       "0.357143        17\n",
       "1.875000        12\n",
       "4.166667        10\n",
       "0.294118         9\n",
       "0.500000         8\n",
       "3.125000         8\n",
       "2.142857         7\n",
       "0.333333         7\n",
       "0.416667         7\n",
       "1.071429         6\n",
       "4.285714         5\n",
       "0.384615         5\n",
       "0.666667         4\n",
       "2.222222         4\n",
       "3.571429         3\n",
       "0.250000         3\n",
       "0.588235         3\n",
       "0.200000         3\n",
       "1.500000         2\n",
       "4.375000         2\n",
       "0.526316         2\n",
       "0.454545         2\n",
       "0.263158         2\n",
       "2.857143         2\n",
       "1.923077         2\n",
       "0.217391         1\n",
       "1.363636         1\n",
       "2.272727         1\n",
       "3.809524         1\n",
       "3.888889         1\n",
       "1.200000         1\n",
       "0.400000         1\n",
       "4.500000         1\n",
       "2.083333         1\n",
       "Name: count, dtype: int64"
      ]
     },
     "execution_count": 11,
     "metadata": {},
     "output_type": "execute_result"
    }
   ],
   "source": [
    "mm_df.value_counts('score', ascending=False)"
   ]
  },
  {
   "cell_type": "markdown",
   "metadata": {},
   "source": [
    "___\n",
    "**Using the Surprise Library for Matrix Factorization**\n",
    "\n",
    "**Step 1:** Load the Dataset from a DataFrame\n",
    "\n",
    "We load our sorted Dataframe into a Surprise dataset. This dataset will be used to build and evaluate our recommendation models. The `Reader` class is used to specify the rating scale, which ranges from 0 to 5 in our case.\n",
    "\n",
    "**Step 2:** Build the Full Training Set\n",
    "\n",
    "We convert the loaded dataset into a full training set. This training set includes all the data from our original DataFrame and is structured in a way that Surprise's algorithms can use for training."
   ]
  },
  {
   "cell_type": "code",
   "execution_count": 12,
   "metadata": {},
   "outputs": [],
   "source": [
    "#Step 1:\n",
    "\n",
    "my_dataset = Dataset.load_from_df(mm_df, Reader(rating_scale=(0, 5)))\n",
    "\n",
    "#Step 2:\n",
    "\n",
    "my_train_dataset = my_dataset.build_full_trainset()"
   ]
  },
  {
   "cell_type": "code",
   "execution_count": 13,
   "metadata": {},
   "outputs": [
    {
     "data": {
      "text/plain": [
       "<surprise.trainset.Trainset at 0x10934a430>"
      ]
     },
     "execution_count": 13,
     "metadata": {},
     "output_type": "execute_result"
    }
   ],
   "source": [
    "#Sanity check :\n",
    "\n",
    "my_train_dataset"
   ]
  },
  {
   "cell_type": "markdown",
   "metadata": {},
   "source": [
    "The dataset has been successfully converted into a trainset object, which is now ready to be used for training our recommendation model in the Surprise library. We'll continue by first performing some hyperparameter tuning to find the best parameters for our algorithm.  "
   ]
  },
  {
   "cell_type": "code",
   "execution_count": 14,
   "metadata": {},
   "outputs": [],
   "source": [
    "#Parameter grid for cross-validation:\n",
    "param_grid = {\n",
    "    'n_factors': [10, 20, 50],\n",
    "    'n_epochs': [100, 200, 500],\n",
    "    'lr_all': [0.005, 0.01, 0.1],\n",
    "    'biased': [False]\n",
    "}\n",
    "\n",
    "#Initializing the GridSearchCV:\n",
    "grid_search = GridSearchCV(FunkSVD, param_grid, measures=['rmse', 'mae'], cv=3, n_jobs=-1)\n",
    "\n",
    "grid_search.fit(my_dataset)\n"
   ]
  },
  {
   "cell_type": "code",
   "execution_count": 15,
   "metadata": {},
   "outputs": [
    {
     "name": "stdout",
     "output_type": "stream",
     "text": [
      "The best parameters for the FunkSVD algorithm: {'n_factors': 10, 'n_epochs': 100, 'lr_all': 0.1, 'biased': False}\n"
     ]
    }
   ],
   "source": [
    "#Getting the best parameters from the grid search:\n",
    "best_params = grid_search.best_params['rmse']\n",
    "\n",
    "# Print the best parameters\n",
    "print(f\"The best parameters for the FunkSVD algorithm: {best_params}\")"
   ]
  },
  {
   "cell_type": "markdown",
   "metadata": {},
   "source": [
    "Now we can initialize the FunkSVD algorithm with our best parameters. "
   ]
  },
  {
   "cell_type": "code",
   "execution_count": 16,
   "metadata": {},
   "outputs": [
    {
     "name": "stdout",
     "output_type": "stream",
     "text": [
      "Processing epoch 0\n",
      "Processing epoch 1\n",
      "Processing epoch 2\n",
      "Processing epoch 3\n",
      "Processing epoch 4\n",
      "Processing epoch 5\n",
      "Processing epoch 6\n",
      "Processing epoch 7\n",
      "Processing epoch 8\n",
      "Processing epoch 9\n",
      "Processing epoch 10\n",
      "Processing epoch 11\n",
      "Processing epoch 12\n",
      "Processing epoch 13\n",
      "Processing epoch 14\n",
      "Processing epoch 15\n",
      "Processing epoch 16\n",
      "Processing epoch 17\n",
      "Processing epoch 18\n",
      "Processing epoch 19\n",
      "Processing epoch 20\n",
      "Processing epoch 21\n",
      "Processing epoch 22\n",
      "Processing epoch 23\n",
      "Processing epoch 24\n",
      "Processing epoch 25\n",
      "Processing epoch 26\n",
      "Processing epoch 27\n",
      "Processing epoch 28\n",
      "Processing epoch 29\n",
      "Processing epoch 30\n",
      "Processing epoch 31\n",
      "Processing epoch 32\n",
      "Processing epoch 33\n",
      "Processing epoch 34\n",
      "Processing epoch 35\n",
      "Processing epoch 36\n",
      "Processing epoch 37\n",
      "Processing epoch 38\n",
      "Processing epoch 39\n",
      "Processing epoch 40\n",
      "Processing epoch 41\n",
      "Processing epoch 42\n",
      "Processing epoch 43\n",
      "Processing epoch 44\n",
      "Processing epoch 45\n",
      "Processing epoch 46\n",
      "Processing epoch 47\n",
      "Processing epoch 48\n",
      "Processing epoch 49\n",
      "Processing epoch 50\n",
      "Processing epoch 51\n",
      "Processing epoch 52\n",
      "Processing epoch 53\n",
      "Processing epoch 54\n",
      "Processing epoch 55\n",
      "Processing epoch 56\n",
      "Processing epoch 57\n",
      "Processing epoch 58\n",
      "Processing epoch 59\n",
      "Processing epoch 60\n",
      "Processing epoch 61\n",
      "Processing epoch 62\n",
      "Processing epoch 63\n",
      "Processing epoch 64\n",
      "Processing epoch 65\n",
      "Processing epoch 66\n",
      "Processing epoch 67\n",
      "Processing epoch 68\n",
      "Processing epoch 69\n",
      "Processing epoch 70\n",
      "Processing epoch 71\n",
      "Processing epoch 72\n",
      "Processing epoch 73\n",
      "Processing epoch 74\n",
      "Processing epoch 75\n",
      "Processing epoch 76\n",
      "Processing epoch 77\n",
      "Processing epoch 78\n",
      "Processing epoch 79\n",
      "Processing epoch 80\n",
      "Processing epoch 81\n",
      "Processing epoch 82\n",
      "Processing epoch 83\n",
      "Processing epoch 84\n",
      "Processing epoch 85\n",
      "Processing epoch 86\n",
      "Processing epoch 87\n",
      "Processing epoch 88\n",
      "Processing epoch 89\n",
      "Processing epoch 90\n",
      "Processing epoch 91\n",
      "Processing epoch 92\n",
      "Processing epoch 93\n",
      "Processing epoch 94\n",
      "Processing epoch 95\n",
      "Processing epoch 96\n",
      "Processing epoch 97\n",
      "Processing epoch 98\n",
      "Processing epoch 99\n"
     ]
    },
    {
     "data": {
      "text/plain": [
       "<surprise.prediction_algorithms.matrix_factorization.SVD at 0x31f2b2430>"
      ]
     },
     "execution_count": 16,
     "metadata": {},
     "output_type": "execute_result"
    }
   ],
   "source": [
    "#Initializing the FunkSVD algorithm with best parameters:\n",
    "my_algorithm = FunkSVD(n_factors=10,\n",
    "                       n_epochs=100,\n",
    "                       lr_all=0.1,   \n",
    "                       biased=False,  #Forcing the algorithm to store all latent information in the matrices\n",
    "                       verbose=1)\n",
    "\n",
    "#Fitting the algorithm to the training data:\n",
    "my_algorithm.fit(my_train_dataset)"
   ]
  },
  {
   "cell_type": "code",
   "execution_count": 17,
   "metadata": {},
   "outputs": [
    {
     "data": {
      "text/plain": [
       "(135897, 10)"
      ]
     },
     "execution_count": 17,
     "metadata": {},
     "output_type": "execute_result"
    }
   ],
   "source": [
    "#The user matrix is under the SVD.pu attribute:\n",
    "\n",
    "C = my_algorithm.pu\n",
    "C.shape"
   ]
  },
  {
   "cell_type": "code",
   "execution_count": 18,
   "metadata": {},
   "outputs": [
    {
     "data": {
      "text/plain": [
       "(10, 23083)"
      ]
     },
     "execution_count": 18,
     "metadata": {},
     "output_type": "execute_result"
    }
   ],
   "source": [
    "#The articles matrix is under the SVD.qi attribute:\n",
    "\n",
    "A = my_algorithm.qi.T\n",
    "A.shape"
   ]
  },
  {
   "cell_type": "code",
   "execution_count": 25,
   "metadata": {},
   "outputs": [
    {
     "data": {
      "image/png": "[encoded data removed]",
      "text/plain": [
       "<Figure size 800x500 with 1 Axes>"
      ]
     },
     "metadata": {},
     "output_type": "display_data"
    }
   ],
   "source": [
    "#Visualizing the composition of latent variables for the first article in a dataset:\n",
    "\n",
    "first_article = A[:, 0]\n",
    "\n",
    "plt.figure(figsize=(8, 5))\n",
    "plt.barh([f'Latent Var{i}' for i in range(1,len(first_article)+1)], first_article)\n",
    "plt.title(\"Latent Variable Composition of Article #1\")\n",
    "plt.ylabel(\"Latent Variable\")\n",
    "plt.xlabel(\"Value\")\n",
    "\n",
    "plt.show()"
   ]
  },
  {
   "cell_type": "code",
   "execution_count": 20,
   "metadata": {},
   "outputs": [
    {
     "data": {
      "text/plain": [
       "array([-0.29042579,  0.45583962, -0.29808021, -0.21477959,  1.2419068 ,\n",
       "        0.28111903, -1.46148955, -1.0169479 ,  0.69082631, -1.09942475])"
      ]
     },
     "execution_count": 20,
     "metadata": {},
     "output_type": "execute_result"
    }
   ],
   "source": [
    "inner_article_id = my_train_dataset.to_inner_iid(448509014) # find the inner representation of item 1\n",
    "article_profile = A[:, inner_article_id]\n",
    "article_profile"
   ]
  },
  {
   "cell_type": "code",
   "execution_count": 22,
   "metadata": {},
   "outputs": [
    {
     "data": {
      "text/plain": [
       "array([ 0.54640442,  0.91880579, -0.11207646,  0.05671644,  1.19310279,\n",
       "        1.43888333, -0.50501613, -0.00339903,  1.03415939, -0.47621025])"
      ]
     },
     "execution_count": 22,
     "metadata": {},
     "output_type": "execute_result"
    }
   ],
   "source": [
    "inner_user_id = my_train_dataset.to_inner_uid('ffffcf35913a0bee60e8741cb2b4e78b8a98ee5ff2e6a1778d0116cffd259264') # find the inner representation of user 1\n",
    "user_profile = C[inner_user_id]\n",
    "user_profile"
   ]
  },
  {
   "cell_type": "code",
   "execution_count": 26,
   "metadata": {},
   "outputs": [
    {
     "data": {
      "image/png": "[encoded data removed]",
      "text/plain": [
       "<Figure size 800x500 with 1 Axes>"
      ]
     },
     "metadata": {},
     "output_type": "display_data"
    }
   ],
   "source": [
    "plt.figure(figsize=(8, 5))\n",
    "plt.barh([f'Latent Var{i}' for i in range(1,len(first_article)+1)], user_profile)\n",
    "plt.title(\"Latent Variable Profile of User #1\")\n",
    "plt.ylabel(\"Latent Variable\")\n",
    "plt.xlabel(\"Value\")\n",
    "plt.show()"
   ]
  },
  {
   "cell_type": "code",
   "execution_count": 27,
   "metadata": {},
   "outputs": [
    {
     "data": {
      "text/plain": [
       "4.147098603945535"
      ]
     },
     "execution_count": 27,
     "metadata": {},
     "output_type": "execute_result"
    }
   ],
   "source": [
    "expected_rating = np.dot(user_profile, article_profile)\n",
    "expected_rating"
   ]
  },
  {
   "cell_type": "code",
   "execution_count": 28,
   "metadata": {},
   "outputs": [],
   "source": [
    "my_train_dataset, my_test_dataset = train_test_split(my_dataset, test_size=0.5)\n",
    "\n",
    "predictions = my_algorithm.test(my_test_dataset)"
   ]
  },
  {
   "cell_type": "markdown",
   "metadata": {},
   "source": [
    "___\n",
    "#### **Evaluating the Recommendation System: MSE, RMSE, and MAE**"
   ]
  },
  {
   "cell_type": "markdown",
   "metadata": {},
   "source": [
    "In our recommendation system, RMSE, MSE, MAE, and FCP  are crucial metrics for evaluating the accuracy of predicted ratings:\n",
    "\n",
    "- **RMSE (Root Mean Squared Error)** offers an interpretable measure of prediction accuracy in the same scale as the ratings. \n",
    "    - A lower RMSE means that the predictions are closer to the actual ratings.\n",
    "- **MSE (Mean Squared Error)** helps identify large errors by giving them more weight. \n",
    "    - A lower MSE indicates better accuracy.\n",
    "- **MAE (Mean Absolute Error)** provides a robust average error metric that is less influenced by outliers. \n",
    "    - A lower MAE indicates better performance.\n",
    "- **FCP (Fraction of Concordant Pairs)** measures how well the system preserves the relative ordering of item ratings. \n",
    "    - A higher FCP value indicates that the system is better at maintaining the correct order of preferences.\n",
    "\n",
    "Using these metrics, we can assess and improve the performance of our recommendation system, ensuring it provides accurate and reliable recommendations."
   ]
  },
  {
   "cell_type": "code",
   "execution_count": 29,
   "metadata": {},
   "outputs": [
    {
     "name": "stdout",
     "output_type": "stream",
     "text": [
      "0.16951039582613642\n"
     ]
    }
   ],
   "source": [
    "#RMSE (Root Mean Squared Error):\n",
    "\n",
    "RMSE = accuracy.rmse(predictions, verbose=False)\n",
    "print(RMSE)"
   ]
  },
  {
   "cell_type": "code",
   "execution_count": 30,
   "metadata": {},
   "outputs": [
    {
     "name": "stdout",
     "output_type": "stream",
     "text": [
      "0.028733774293133448\n"
     ]
    }
   ],
   "source": [
    "#MSE (Mean Squared Error):\n",
    "\n",
    "MSE = accuracy.mse(predictions, verbose=False)\n",
    "print(MSE)"
   ]
  },
  {
   "cell_type": "code",
   "execution_count": 31,
   "metadata": {},
   "outputs": [
    {
     "name": "stdout",
     "output_type": "stream",
     "text": [
      "0.09038932324006814\n"
     ]
    }
   ],
   "source": [
    "#MAE (Mean Absolute Error):\n",
    "\n",
    "MAE = accuracy.mae(predictions, verbose=False)\n",
    "print(MAE)"
   ]
  },
  {
   "cell_type": "code",
   "execution_count": 32,
   "metadata": {},
   "outputs": [
    {
     "name": "stdout",
     "output_type": "stream",
     "text": [
      "0.6449189566858999\n"
     ]
    }
   ],
   "source": [
    "# FCP - Fraction of Concordant Pairs, the fraction of pairs whose relative ranking order is correct\n",
    "\n",
    "FCP = accuracy.fcp(predictions, verbose=False)\n",
    "print(FCP)"
   ]
  },
  {
   "cell_type": "code",
   "execution_count": null,
   "metadata": {},
   "outputs": [],
   "source": []
  }
 ],
 "metadata": {
  "kernelspec": {
   "display_name": "hm_env",
   "language": "python",
   "name": "python3"
  },
  "language_info": {
   "codemirror_mode": {
    "name": "ipython",
    "version": 3
   },
   "file_extension": ".py",
   "mimetype": "text/x-python",
   "name": "python",
   "nbconvert_exporter": "python",
   "pygments_lexer": "ipython3",
   "version": "3.8.19"
  }
 },
 "nbformat": 4,
 "nbformat_minor": 2
}
